{
 "cells": [
  {
   "cell_type": "code",
   "execution_count": 380,
   "metadata": {},
   "outputs": [],
   "source": [
    "import pandas as pd #1.5.0\n",
    "import pickle #4.0\n",
    "import tensorflow as tf #2.10.0\n",
    "\n",
    "from sklearn.metrics import mean_absolute_error\n",
    "from sklearn.model_selection import train_test_split"
   ]
  },
  {
   "cell_type": "code",
   "execution_count": 381,
   "metadata": {},
   "outputs": [],
   "source": [
    "look_up_df = pd.read_csv('look_up_table.csv')\n",
    "unit_df = pd.read_csv('Unit_1.csv')\n",
    "unit_df = unit_df.drop(['Unnamed: 0'], axis=1)\n",
    "unit_df['net_head'] = unit_df.Magat_level - unit_df.Maris_level\n",
    "models=[]\n",
    "scores=[]"
   ]
  },
  {
   "cell_type": "markdown",
   "metadata": {},
   "source": [
    "#### Look-up Table Evaluation"
   ]
  },
  {
   "cell_type": "code",
   "execution_count": 382,
   "metadata": {},
   "outputs": [],
   "source": [
    "lk_table = unit_df[['net_head', 'U1_ActivePower']].round(2).copy()\n",
    "lk_table = lk_table.merge(look_up_df, how='left')"
   ]
  },
  {
   "cell_type": "code",
   "execution_count": 383,
   "metadata": {},
   "outputs": [],
   "source": [
    "X = lk_table.drop('U1_ActivePower', axis=1)\n",
    "y = lk_table['U1_ActivePower']"
   ]
  },
  {
   "cell_type": "code",
   "execution_count": 384,
   "metadata": {},
   "outputs": [],
   "source": [
    "X_train, X_test, y_train, y_test = train_test_split(X, y, test_size=.3, random_state=123)"
   ]
  },
  {
   "cell_type": "code",
   "execution_count": 385,
   "metadata": {},
   "outputs": [],
   "source": [
    "lk_table_final = X_test.copy()\n",
    "lk_table_final['U1_ActivePower'] = y_test.copy()"
   ]
  },
  {
   "cell_type": "code",
   "execution_count": 386,
   "metadata": {},
   "outputs": [
    {
     "name": "stdout",
     "output_type": "stream",
     "text": [
      "Model: Look-up Table    MAE: 2.073\n"
     ]
    }
   ],
   "source": [
    "model='Look-up Table'\n",
    "score = mean_absolute_error(lk_table_final.U1_ActivePower, lk_table_final.unit_capability).round(3)\n",
    "models.append('Look-up Table')\n",
    "scores.append(score)\n",
    "print(f'Model: {model}    MAE: {score}')"
   ]
  },
  {
   "cell_type": "markdown",
   "metadata": {},
   "source": [
    "#### Splitting of Seeded Test Set"
   ]
  },
  {
   "cell_type": "code",
   "execution_count": 387,
   "metadata": {},
   "outputs": [],
   "source": [
    "unit_df = unit_df.rename(columns={'net_head': \"Hydraulic_head\"})"
   ]
  },
  {
   "cell_type": "code",
   "execution_count": 388,
   "metadata": {},
   "outputs": [],
   "source": [
    "X = unit_df.drop('U1_ActivePower', axis=1)\n",
    "y = unit_df['U1_ActivePower']"
   ]
  },
  {
   "cell_type": "code",
   "execution_count": 389,
   "metadata": {},
   "outputs": [],
   "source": [
    "X_train, X_test, y_train, y_test = train_test_split(X, y, test_size=.3, random_state=123)"
   ]
  },
  {
   "cell_type": "markdown",
   "metadata": {},
   "source": [
    "#### XGBoost Regressor Model"
   ]
  },
  {
   "cell_type": "code",
   "execution_count": 390,
   "metadata": {},
   "outputs": [
    {
     "name": "stdout",
     "output_type": "stream",
     "text": [
      "Model: XGBoost    MAE: 0.324\n"
     ]
    }
   ],
   "source": [
    "xgb_model = pickle.load(open('saved_model/xgb_model.pkl', 'rb'))\n",
    "preds = xgb_model.predict(X_test)\n",
    "model = 'XGBoost'\n",
    "score = mean_absolute_error(y_test, preds).round(3)\n",
    "models.append(model)\n",
    "scores.append(score)\n",
    "print(f'Model: {model}    MAE: {score}')"
   ]
  },
  {
   "cell_type": "markdown",
   "metadata": {},
   "source": [
    "#### LightGBM Regressor Model"
   ]
  },
  {
   "cell_type": "code",
   "execution_count": 391,
   "metadata": {},
   "outputs": [
    {
     "name": "stdout",
     "output_type": "stream",
     "text": [
      "Model: LightGBM    MAE: 0.322\n"
     ]
    }
   ],
   "source": [
    "lgbm_model = pickle.load(open('saved_model/lgbm_model.pkl', 'rb'))\n",
    "preds = lgbm_model.predict(X_test)\n",
    "model = 'LightGBM'\n",
    "score = mean_absolute_error(y_test, preds).round(3)\n",
    "models.append(model)\n",
    "scores.append(score)\n",
    "print(f'Model: {model}    MAE: {score}')"
   ]
  },
  {
   "cell_type": "markdown",
   "metadata": {},
   "source": [
    "#### Histogram-based Gradient Boosting Regressor"
   ]
  },
  {
   "cell_type": "code",
   "execution_count": 392,
   "metadata": {},
   "outputs": [
    {
     "name": "stdout",
     "output_type": "stream",
     "text": [
      "Model: HGBR    MAE: 0.327\n"
     ]
    }
   ],
   "source": [
    "hgbr_model = pickle.load(open('saved_model/hgbr_model.pkl', 'rb'))\n",
    "preds = hgbr_model.predict(X_test)\n",
    "model = 'HGBR'\n",
    "score = mean_absolute_error(y_test, preds).round(3)\n",
    "models.append(model)\n",
    "scores.append(score)\n",
    "print(f'Model: {model}    MAE: {score}')"
   ]
  },
  {
   "cell_type": "markdown",
   "metadata": {},
   "source": [
    "#### Gradient Boosting Regressor"
   ]
  },
  {
   "cell_type": "code",
   "execution_count": 393,
   "metadata": {},
   "outputs": [
    {
     "name": "stdout",
     "output_type": "stream",
     "text": [
      "Model: GBR    MAE: 0.319\n"
     ]
    }
   ],
   "source": [
    "gbr_model = pickle.load(open('saved_model/gbr_model.pkl', 'rb'))\n",
    "preds = gbr_model.predict(X_test)\n",
    "model = 'GBR'\n",
    "score = mean_absolute_error(y_test, preds).round(3)\n",
    "models.append(model)\n",
    "scores.append(score)\n",
    "print(f'Model: {model}    MAE: {score}')"
   ]
  },
  {
   "cell_type": "markdown",
   "metadata": {},
   "source": [
    "#### Ensemble Model"
   ]
  },
  {
   "cell_type": "code",
   "execution_count": 394,
   "metadata": {},
   "outputs": [
    {
     "name": "stdout",
     "output_type": "stream",
     "text": [
      "Model: Ensemble Model    MAE: 0.318\n"
     ]
    }
   ],
   "source": [
    "ensemble_model = pickle.load(open('saved_model/ensemble_model.pkl', 'rb'))\n",
    "preds = ensemble_model.predict(X_test)\n",
    "model = 'Ensemble Model'\n",
    "score = mean_absolute_error(y_test, preds).round(3)\n",
    "models.append(model)\n",
    "scores.append(score)\n",
    "print(f'Model: {model}    MAE: {score}')"
   ]
  },
  {
   "cell_type": "markdown",
   "metadata": {},
   "source": [
    "#### Deep Neural Network"
   ]
  },
  {
   "cell_type": "code",
   "execution_count": 395,
   "metadata": {},
   "outputs": [],
   "source": [
    "dnn_X_test = X_test.drop('Hydraulic_head', axis=1)"
   ]
  },
  {
   "cell_type": "code",
   "execution_count": 396,
   "metadata": {},
   "outputs": [
    {
     "name": "stdout",
     "output_type": "stream",
     "text": [
      "341/341 [==============================] - 0s 1ms/step\n",
      "Model: DNN    MAE: 0.327\n"
     ]
    }
   ],
   "source": [
    "dnn_model = tf.keras.models.load_model('saved_model/dnn_unit1')\n",
    "preds = dnn_model.predict(dnn_X_test)\n",
    "model = 'DNN'\n",
    "score = mean_absolute_error(y_test, preds).round(3)\n",
    "models.append(model)\n",
    "scores.append(score)\n",
    "print(f'Model: {model}    MAE: {score}')"
   ]
  },
  {
   "cell_type": "code",
   "execution_count": 397,
   "metadata": {},
   "outputs": [
    {
     "data": {
      "text/html": [
       "<div>\n",
       "<style scoped>\n",
       "    .dataframe tbody tr th:only-of-type {\n",
       "        vertical-align: middle;\n",
       "    }\n",
       "\n",
       "    .dataframe tbody tr th {\n",
       "        vertical-align: top;\n",
       "    }\n",
       "\n",
       "    .dataframe thead th {\n",
       "        text-align: right;\n",
       "    }\n",
       "</style>\n",
       "<table border=\"1\" class=\"dataframe\">\n",
       "  <thead>\n",
       "    <tr style=\"text-align: right;\">\n",
       "      <th></th>\n",
       "      <th>Model</th>\n",
       "      <th>MAE</th>\n",
       "      <th>% Error Reduction</th>\n",
       "    </tr>\n",
       "  </thead>\n",
       "  <tbody>\n",
       "    <tr>\n",
       "      <th>5</th>\n",
       "      <td>Ensemble Model</td>\n",
       "      <td>0.318</td>\n",
       "      <td>84.66</td>\n",
       "    </tr>\n",
       "    <tr>\n",
       "      <th>4</th>\n",
       "      <td>GBR</td>\n",
       "      <td>0.319</td>\n",
       "      <td>84.61</td>\n",
       "    </tr>\n",
       "    <tr>\n",
       "      <th>2</th>\n",
       "      <td>LightGBM</td>\n",
       "      <td>0.322</td>\n",
       "      <td>84.47</td>\n",
       "    </tr>\n",
       "    <tr>\n",
       "      <th>1</th>\n",
       "      <td>XGBoost</td>\n",
       "      <td>0.324</td>\n",
       "      <td>84.37</td>\n",
       "    </tr>\n",
       "    <tr>\n",
       "      <th>3</th>\n",
       "      <td>HGBR</td>\n",
       "      <td>0.327</td>\n",
       "      <td>84.23</td>\n",
       "    </tr>\n",
       "    <tr>\n",
       "      <th>6</th>\n",
       "      <td>DNN</td>\n",
       "      <td>0.327</td>\n",
       "      <td>84.23</td>\n",
       "    </tr>\n",
       "    <tr>\n",
       "      <th>0</th>\n",
       "      <td>Look-up Table</td>\n",
       "      <td>2.073</td>\n",
       "      <td>0.00</td>\n",
       "    </tr>\n",
       "  </tbody>\n",
       "</table>\n",
       "</div>"
      ],
      "text/plain": [
       "            Model    MAE  % Error Reduction\n",
       "5  Ensemble Model  0.318              84.66\n",
       "4             GBR  0.319              84.61\n",
       "2        LightGBM  0.322              84.47\n",
       "1         XGBoost  0.324              84.37\n",
       "3            HGBR  0.327              84.23\n",
       "6             DNN  0.327              84.23\n",
       "0   Look-up Table  2.073               0.00"
      ]
     },
     "execution_count": 397,
     "metadata": {},
     "output_type": "execute_result"
    }
   ],
   "source": [
    "model_eval = pd.DataFrame({'Model': models, 'MAE': scores})\n",
    "model_eval = model_eval.sort_values(by=['MAE'])\n",
    "percent_reduc = (abs(model_eval.MAE - 2.073)/2.073) * 100\n",
    "model_eval['% Error Reduction'] = percent_reduc.round(2)\n",
    "model_eval"
   ]
  }
 ],
 "metadata": {
  "kernelspec": {
   "display_name": "Python 3.9.0 64-bit",
   "language": "python",
   "name": "python3"
  },
  "language_info": {
   "codemirror_mode": {
    "name": "ipython",
    "version": 3
   },
   "file_extension": ".py",
   "mimetype": "text/x-python",
   "name": "python",
   "nbconvert_exporter": "python",
   "pygments_lexer": "ipython3",
   "version": "3.9.0"
  },
  "orig_nbformat": 4,
  "vscode": {
   "interpreter": {
    "hash": "cd38e5a88334fb4f0a3a7cb4807489c1d2190f8b1b2649dc0fd7c6a431f8e87e"
   }
  }
 },
 "nbformat": 4,
 "nbformat_minor": 2
}
